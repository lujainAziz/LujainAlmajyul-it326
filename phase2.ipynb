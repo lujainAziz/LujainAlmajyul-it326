{
  "nbformat": 4,
  "nbformat_minor": 0,
  "metadata": {
    "colab": {
      "provenance": [],
      "authorship_tag": "ABX9TyPvbVuOydkh+iakGg5PQzuZ",
      "include_colab_link": true
    },
    "kernelspec": {
      "name": "python3",
      "display_name": "Python 3"
    },
    "language_info": {
      "name": "python"
    }
  },
  "cells": [
    {
      "cell_type": "markdown",
      "metadata": {
        "id": "view-in-github",
        "colab_type": "text"
      },
      "source": [
        "<a href=\"https://colab.research.google.com/github/lujainAziz/LujainAlmajyul-it326/blob/main/phase2.ipynb\" target=\"_parent\"><img src=\"https://colab.research.google.com/assets/colab-badge.svg\" alt=\"Open In Colab\"/></a>"
      ]
    },
    {
      "cell_type": "markdown",
      "source": [
        "\n",
        "\n",
        "\n",
        "‎# 1. استيراد المكتبات الضرورية\n",
        "import pandas as pd\n",
        "import matplotlib.pyplot as plt\n",
        "import seaborn as sns\n",
        "\n",
        "‎# 2. تحميل البيانات من ملف CSV\n",
        "‎# تأكد من تحميل الملف بشكل صحيح أولاً في Google Colab\n",
        "data = pd.read_csv('path_to_your_file.csv')\n",
        "\n",
        "‎# 3. عرض أول 5 صفوف من البيانات للتأكد من تحميلها\n",
        "print(data.head())\n",
        "\n",
        "‎# 4. الحصول على ملخص إحصائي (Five-number summary)\n",
        "summary_stats = data.describe()\n",
        "print(\"Summary Statistics:\\n\", summary_stats)\n",
        "\n",
        "‎# 5. حساب القيم المفقودة\n",
        "missing_values = data.isnull().sum()\n",
        "print(\"Missing Values:\\n\", missing_values)\n",
        "\n",
        "‎# 6. رسم histogram لجميع الأعمدة العددية (التوزيعات)\n",
        "numerical_columns = data.select_dtypes(include=['float64', 'int64']).columns\n",
        "data[numerical_columns].hist(bins=15, figsize=(15, 10))\n",
        "plt.suptitle(\"Histograms of Numerical Attributes\")\n",
        "plt.show()\n",
        "\n",
        "‎# 7. رسم مخططات التشتت بين بعض المتغيرات\n",
        "plt.figure(figsize=(8, 6))\n",
        "sns.scatterplot(x='StudyTimeWeekly', y='GPA', data=data)\n",
        "plt.title(\"Study Time vs GPA\")\n",
        "plt.xlabel(\"Study Time Weekly\")\n",
        "plt.ylabel(\"GPA\")\n",
        "plt.show()\n",
        "\n",
        "‎# 8. رسم المخططات الشريطية للفئات المختلفة (مثل الجنس، الأنشطة)\n",
        "plt.figure(figsize=(8, 6))\n",
        "sns.countplot(x='Gender', data=data)\n",
        "plt.title(\"Gender Distribution\")\n",
        "plt.xlabel(\"Gender\")\n",
        "plt.ylabel(\"Count\")\n",
        "plt.show()\n",
        "\n",
        "‎# 9. رسم Boxplot لعدد الغيابات (Absences) لاكتشاف القيم المتطرفة (Outliers)\n",
        "plt.figure(figsize=(8, 6))\n",
        "sns.boxplot(x=data['Absences'])\n",
        "plt.title(\"Boxplot of Absences\")\n",
        "plt.xlabel(\"Absences\")\n",
        "plt.show()\n",
        "\n",
        "‎# 10. تصدير النتائج إلى ملف جديد إذا كنت بحاجة إلى رفع البيانات المعالجة في GitHub\n",
        "data.to_csv('Preprocessed_dataset.csv', index=False)\n"
      ],
      "metadata": {
        "id": "8_yHxKWqmI2I"
      }
    }
  ]
}