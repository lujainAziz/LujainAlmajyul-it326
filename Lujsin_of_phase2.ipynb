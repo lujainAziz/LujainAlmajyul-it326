{
  "nbformat": 4,
  "nbformat_minor": 0,
  "metadata": {
    "colab": {
      "provenance": [],
      "include_colab_link": true
    },
    "kernelspec": {
      "name": "python3",
      "display_name": "Python 3"
    },
    "language_info": {
      "name": "python"
    }
  },
  "cells": [
    {
      "cell_type": "markdown",
      "metadata": {
        "id": "view-in-github",
        "colab_type": "text"
      },
      "source": [
        "<a href=\"https://colab.research.google.com/github/lujainAziz/LujainAlmajyul-it326/blob/main/Lujsin_of_phase2.ipynb\" target=\"_parent\"><img src=\"https://colab.research.google.com/assets/colab-badge.svg\" alt=\"Open In Colab\"/></a>"
      ]
    },
    {
      "cell_type": "code",
      "source": [
        "# === Cell 1: Setup & Load with auto-check ===\n",
        "import os\n",
        "import pandas as pd\n",
        "\n",
        "repo_url = \"https://github.com/lujainAziz/LujainAlmajyul-it326.git\"\n",
        "repo_name = \"LujainAlmajyul-it326\"\n",
        "dataset_path = f\"{repo_name}/Dataset/Raw_dataset.csv\"\n",
        "\n",
        "if os.path.exists(\"Dataset/Raw_dataset.csv\"):\n",
        "    print(\" Found Dataset/Raw_dataset.csv\")\n",
        "    df = pd.read_csv(\"Dataset/Raw_dataset.csv\")\n",
        "\n",
        "elif os.path.exists(dataset_path):\n",
        "    print(\" Found inside cloned repo\")\n",
        "    df = pd.read_csv(dataset_path)\n",
        "\n",
        "else:\n",
        "    print(\" Cloning repository from GitHub...\")\n",
        "    !git clone {repo_url}\n",
        "    if os.path.exists(dataset_path):\n",
        "        df = pd.read_csv(dataset_path)\n",
        "    else:\n",
        "        raise FileNotFoundError(\"file not found neither locally nor in github\")\n",
        "\n"
      ],
      "metadata": {
        "colab": {
          "base_uri": "https://localhost:8080/"
        },
        "id": "3KDAVtaiJ1wr",
        "outputId": "000d14ce-c049-4c69-efcb-647c8237df31"
      },
      "execution_count": 3,
      "outputs": [
        {
          "output_type": "stream",
          "name": "stdout",
          "text": [
            " Cloning repository from GitHub...\n",
            "Cloning into 'LujainAlmajyul-it326'...\n",
            "remote: Enumerating objects: 132, done.\u001b[K\n",
            "remote: Counting objects: 100% (132/132), done.\u001b[K\n",
            "remote: Compressing objects: 100% (124/124), done.\u001b[K\n",
            "remote: Total 132 (delta 56), reused 9 (delta 1), pack-reused 0 (from 0)\u001b[K\n",
            "Receiving objects: 100% (132/132), 774.34 KiB | 2.19 MiB/s, done.\n",
            "Resolving deltas: 100% (56/56), done.\n"
          ]
        }
      ]
    },
    {
      "cell_type": "markdown",
      "source": [
        "#####the code check that there is no problem while reading the file"
      ],
      "metadata": {
        "id": "JaFHdmXmVaX9"
      }
    },
    {
      "cell_type": "markdown",
      "source": [
        "--------------------------------------------------------------------------------\n",
        "## missing value , five Number summary"
      ],
      "metadata": {
        "id": "vMa3Qjs1V5Sj"
      }
    },
    {
      "cell_type": "code",
      "source": [
        "# Missing values\n",
        "missing = df.isna().sum().sort_values(ascending=False)\n",
        "print(\"Missing values per column:\\n\", missing)\n",
        "\n",
        "# === Complete Statistical Summary (count, mean, std, min, quartiles, max) ===\n",
        "import pandas as pd\n",
        "import numpy as np\n",
        "\n",
        "# Select numeric columns\n",
        "num_cols = df.select_dtypes(include=[np.number]).columns\n",
        "\n",
        "# One single table that includes everything\n",
        "stat_summary = df[num_cols].describe(percentiles=[0.25, 0.5, 0.75]).T\n",
        "print(\"📊 Complete Statistical Summary:\")\n",
        "print(stat_summary)"
      ],
      "metadata": {
        "colab": {
          "base_uri": "https://localhost:8080/"
        },
        "id": "goX7699qTjLz",
        "outputId": "4c714d9b-c3c6-45ac-8185-0134d06d59a1"
      },
      "execution_count": 4,
      "outputs": [
        {
          "output_type": "stream",
          "name": "stdout",
          "text": [
            "Missing values per column:\n",
            " StudentID            0\n",
            "Age                  0\n",
            "Gender               0\n",
            "Ethnicity            0\n",
            "ParentalEducation    0\n",
            "StudyTimeWeekly      0\n",
            "Absences             0\n",
            "Tutoring             0\n",
            "ParentalSupport      0\n",
            "Extracurricular      0\n",
            "Sports               0\n",
            "Music                0\n",
            "Volunteering         0\n",
            "GPA                  0\n",
            "GradeClass           0\n",
            "dtype: int64\n",
            "📊 Complete Statistical Summary:\n",
            "                    count         mean         std          min          25%  \\\n",
            "StudentID          2392.0  2196.500000  690.655244  1001.000000  1598.750000   \n",
            "Age                2392.0    16.468645    1.123798    15.000000    15.000000   \n",
            "Gender             2392.0     0.510870    0.499986     0.000000     0.000000   \n",
            "Ethnicity          2392.0     0.877508    1.028476     0.000000     0.000000   \n",
            "ParentalEducation  2392.0     1.746237    1.000411     0.000000     1.000000   \n",
            "StudyTimeWeekly    2392.0     9.771992    5.652774     0.001057     5.043079   \n",
            "Absences           2392.0    14.541388    8.467417     0.000000     7.000000   \n",
            "Tutoring           2392.0     0.301421    0.458971     0.000000     0.000000   \n",
            "ParentalSupport    2392.0     2.122074    1.122813     0.000000     1.000000   \n",
            "Extracurricular    2392.0     0.383361    0.486307     0.000000     0.000000   \n",
            "Sports             2392.0     0.303512    0.459870     0.000000     0.000000   \n",
            "Music              2392.0     0.196906    0.397744     0.000000     0.000000   \n",
            "Volunteering       2392.0     0.157191    0.364057     0.000000     0.000000   \n",
            "GPA                2392.0     1.906186    0.915156     0.000000     1.174803   \n",
            "GradeClass         2392.0     2.983696    1.233908     0.000000     2.000000   \n",
            "\n",
            "                           50%          75%          max  \n",
            "StudentID          2196.500000  2794.250000  3392.000000  \n",
            "Age                  16.000000    17.000000    18.000000  \n",
            "Gender                1.000000     1.000000     1.000000  \n",
            "Ethnicity             0.000000     2.000000     3.000000  \n",
            "ParentalEducation     2.000000     2.000000     4.000000  \n",
            "StudyTimeWeekly       9.705363    14.408410    19.978094  \n",
            "Absences             15.000000    22.000000    29.000000  \n",
            "Tutoring              0.000000     1.000000     1.000000  \n",
            "ParentalSupport       2.000000     3.000000     4.000000  \n",
            "Extracurricular       0.000000     1.000000     1.000000  \n",
            "Sports                0.000000     1.000000     1.000000  \n",
            "Music                 0.000000     0.000000     1.000000  \n",
            "Volunteering          0.000000     0.000000     1.000000  \n",
            "GPA                   1.893393     2.622216     4.000000  \n",
            "GradeClass            4.000000     4.000000     4.000000  \n"
          ]
        }
      ]
    },
    {
      "cell_type": "markdown",
      "source": [
        "### Missing values & Five-number summary\n",
        "- Description: The missing values table shows that there are no missing values in the dataset (all counts are zero).  \n",
        "- Insight: Since the dataset is complete, no imputation is required. This means that preprocessing can focus on scaling, discretization, and handling outliers rather than filling missing data.  \n",
        "- Five-number summary: The summary shows min, Q1, median, Q3, and max for each numeric column. For example, StudyTimeWeekly ranges from 0.01 to ~19.9, Absences from 0 to 29, and GPA from 0 to 4.  \n",
        "- Decision: The attributes have very different ranges (e.g., Absences up to 29, GPA only up to 4). This confirms the need for normalization so that attributes are on comparable scales before modeling."
      ],
      "metadata": {
        "id": "Jq42GuqdT0U7"
      }
    },
    {
      "cell_type": "markdown",
      "source": [
        "--------------------------------------------------------------------------------\n",
        "## histogram"
      ],
      "metadata": {
        "id": "1iBtWUUyWSP3"
      }
    },
    {
      "cell_type": "code",
      "source": [
        "df[['GPA','Absences','StudyTimeWeekly']].hist(bins=30, figsize=(12,6))\n",
        "plt.suptitle(\"Histograms of GPA, Absences, StudyTimeWeekly\")\n",
        "plt.show()"
      ],
      "metadata": {
        "colab": {
          "base_uri": "https://localhost:8080/",
          "height": 545
        },
        "id": "lIXeVhR6T2wr",
        "outputId": "ca9bb7d1-322f-4062-e49e-7736490cd67c"
      },
      "execution_count": 5,
      "outputs": [
        {
          "output_type": "error",
          "ename": "NameError",
          "evalue": "name 'plt' is not defined",
          "traceback": [
            "\u001b[0;31m---------------------------------------------------------------------------\u001b[0m",
            "\u001b[0;31mNameError\u001b[0m                                 Traceback (most recent call last)",
            "\u001b[0;32m/tmp/ipython-input-2855355346.py\u001b[0m in \u001b[0;36m<cell line: 0>\u001b[0;34m()\u001b[0m\n\u001b[1;32m      1\u001b[0m \u001b[0mdf\u001b[0m\u001b[0;34m[\u001b[0m\u001b[0;34m[\u001b[0m\u001b[0;34m'GPA'\u001b[0m\u001b[0;34m,\u001b[0m\u001b[0;34m'Absences'\u001b[0m\u001b[0;34m,\u001b[0m\u001b[0;34m'StudyTimeWeekly'\u001b[0m\u001b[0;34m]\u001b[0m\u001b[0;34m]\u001b[0m\u001b[0;34m.\u001b[0m\u001b[0mhist\u001b[0m\u001b[0;34m(\u001b[0m\u001b[0mbins\u001b[0m\u001b[0;34m=\u001b[0m\u001b[0;36m30\u001b[0m\u001b[0;34m,\u001b[0m \u001b[0mfigsize\u001b[0m\u001b[0;34m=\u001b[0m\u001b[0;34m(\u001b[0m\u001b[0;36m12\u001b[0m\u001b[0;34m,\u001b[0m\u001b[0;36m6\u001b[0m\u001b[0;34m)\u001b[0m\u001b[0;34m)\u001b[0m\u001b[0;34m\u001b[0m\u001b[0;34m\u001b[0m\u001b[0m\n\u001b[0;32m----> 2\u001b[0;31m \u001b[0mplt\u001b[0m\u001b[0;34m.\u001b[0m\u001b[0msuptitle\u001b[0m\u001b[0;34m(\u001b[0m\u001b[0;34m\"Histograms of GPA, Absences, StudyTimeWeekly\"\u001b[0m\u001b[0;34m)\u001b[0m\u001b[0;34m\u001b[0m\u001b[0;34m\u001b[0m\u001b[0m\n\u001b[0m\u001b[1;32m      3\u001b[0m \u001b[0mplt\u001b[0m\u001b[0;34m.\u001b[0m\u001b[0mshow\u001b[0m\u001b[0;34m(\u001b[0m\u001b[0;34m)\u001b[0m\u001b[0;34m\u001b[0m\u001b[0;34m\u001b[0m\u001b[0m\n",
            "\u001b[0;31mNameError\u001b[0m: name 'plt' is not defined"
          ]
        },
        {
          "output_type": "display_data",
          "data": {
            "text/plain": [
              "<Figure size 1200x600 with 4 Axes>"
            ],
            "image/png": "[encoded data removed]"
          },
          "metadata": {}
        }
      ]
    },
    {
      "cell_type": "markdown",
      "source": [
        "### Histograms (GPA, Absences, StudyTimeWeekly)\n",
        "\n",
        "- Description: The histograms show the frequency distribution of three numeric attributes: GPA, Absences, and StudyTimeWeekly.  \n",
        "- Insight:  \n",
        "  - GPA: The values are spread between 0 and 4, with more students concentrated between 1.0 and 3.0, indicating the distribution is not uniform.  \n",
        "  - Absences: The distribution is fairly spread but includes some higher values close to 30, suggesting potential extreme cases.  \n",
        "  - StudyTimeWeekly: Values are distributed across the range (0–20) with slight variations, showing differences in study habits.  \n",
        "- Decision: The differences in scale and the spread of values justify applying normalization (to make attributes comparable). Absences may also need outlier treatment to handle the extreme values at the upper end."
      ],
      "metadata": {
        "id": "5Vvw5zUeT-P7"
      }
    },
    {
      "cell_type": "markdown",
      "source": [
        "--------------------------------------------------------------------------------\n",
        "## box plot & outliers"
      ],
      "metadata": {
        "id": "gRtwsb0VWeDV"
      }
    },
    {
      "cell_type": "code",
      "source": [
        "def iqr_bounds(s, k=1.5):\n",
        "    q1, q3 = s.quantile(0.25), s.quantile(0.75)\n",
        "    iqr = q3 - q1\n",
        "    return q1 - k*iqr, q3 + k*iqr\n",
        "\n",
        "for c in ['GPA','Absences','StudyTimeWeekly']:\n",
        "    plt.figure()\n",
        "    plt.boxplot(df[c])\n",
        "    plt.title(f\"Boxplot of {c}\")\n",
        "    plt.show()\n",
        "\n",
        "    lo, hi = iqr_bounds(df[c])\n",
        "    outliers = ((df[c] < lo) | (df[c] > hi)).sum()\n",
        "    print(f\"{c}: Outliers={outliers}\")"
      ],
      "metadata": {
        "id": "bSH8-WIkUCgm"
      },
      "execution_count": null,
      "outputs": []
    },
    {
      "cell_type": "markdown",
      "source": [
        "### Boxplots & Outliers\n",
        "- Description: The boxplots show the spread of GPA, Absences, and StudyTimeWeekly. The median and quartiles are clearly visible for each attribute.  \n",
        "- Insight: No significant outliers were detected in these three attributes, as all values fall within the whiskers.  \n",
        "- Decision: Since there are no heavy outliers, we do not need strong outlier removal. However, the attributes still have different ranges (e.g., Absences up to 29 vs. GPA up to 4), so normalization is required during preprocessing."
      ],
      "metadata": {
        "id": "GK7RIFnqUIrh"
      }
    },
    {
      "cell_type": "markdown",
      "source": [
        "--------------------------------------------------------------------------------\n",
        "## bar plot"
      ],
      "metadata": {
        "id": "Ku3nbecIW8Gr"
      }
    },
    {
      "cell_type": "code",
      "source": [
        "counts = df['GradeClass'].value_counts().sort_index()\n",
        "plt.bar(counts.index.astype(str), counts.values)\n",
        "plt.title(\"Class Label Distribution (GradeClass)\")\n",
        "plt.xlabel(\"GradeClass\")\n",
        "plt.ylabel(\"Count\")\n",
        "plt.show()\n"
      ],
      "metadata": {
        "id": "iWfVgeH0W_2q"
      },
      "execution_count": null,
      "outputs": []
    },
    {
      "cell_type": "markdown",
      "source": [
        "### Bar plot (Class Label Distribution)\n",
        "- Description: The bar plot shows the distribution of students across grade classes (0–4).  \n",
        "- Insight: The dataset is highly imbalanced. Most students fall into GradeClass 4.0, while very few students are in GradeClass 0.0. Intermediate classes (1.0–3.0) have moderate counts.  \n",
        "- Decision: The imbalance may affect classification results, as models could be biased towards the majority class. This indicates that resampling techniques or careful evaluation metrics may be required during preprocessing and modeling."
      ],
      "metadata": {
        "id": "WxX1TzzLXGQY"
      }
    },
    {
      "cell_type": "markdown",
      "source": [
        "--------------------------------------------------------------------------------\n",
        "## sactter plot"
      ],
      "metadata": {
        "id": "XWOTihW8XJgx"
      }
    },
    {
      "cell_type": "code",
      "source": [
        "plt.scatter(df['StudyTimeWeekly'], df['GPA'])\n",
        "plt.title(\"Scatter: StudyTimeWeekly vs GPA\")\n",
        "plt.xlabel(\"Study Time Weekly\")\n",
        "plt.ylabel(\"GPA\")\n",
        "plt.show()"
      ],
      "metadata": {
        "id": "J3yxlJOzXNp8"
      },
      "execution_count": null,
      "outputs": []
    },
    {
      "cell_type": "markdown",
      "source": [
        "### Scatter Plot (StudyTimeWeekly vs GPA)\n",
        "- Description: The scatter plot displays the relationship between weekly study time and GPA. Each point represents one student.  \n",
        "- Insight: The plot shows a weak positive trend: students with higher study time generally tend to achieve a higher GPA, although the relationship is not perfectly linear.  \n",
        "- Decision: This confirms that StudyTimeWeekly is a relevant predictor for GPA. It should be included in modeling but may require normalization so that it is comparable with other numeric attributes.\n"
      ],
      "metadata": {
        "id": "YdPKvYyEXQ9T"
      }
    }
  ]
}