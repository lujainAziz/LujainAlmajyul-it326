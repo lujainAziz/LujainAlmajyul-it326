{
  "nbformat": 4,
  "nbformat_minor": 0,
  "metadata": {
    "colab": {
      "provenance": [],
      "authorship_tag": "ABX9TyPlena1O2TpmmdB3lEAynYB",
      "include_colab_link": true
    },
    "kernelspec": {
      "name": "python3",
      "display_name": "Python 3"
    },
    "language_info": {
      "name": "python"
    }
  },
  "cells": [
    {
      "cell_type": "markdown",
      "metadata": {
        "id": "view-in-github",
        "colab_type": "text"
      },
      "source": [
        "<a href=\"https://colab.research.google.com/github/lujainAziz/LujainAlmajyul-it326/blob/main/Phase1.ipynb\" target=\"_parent\"><img src=\"https://colab.research.google.com/assets/colab-badge.svg\" alt=\"Open In Colab\"/></a>"
      ]
    },
    {
      "cell_type": "markdown",
      "source": [
        "\n",
        "```\n",
        "Project Goal\n",
        "```\n",
        "\n",
        "The main objective of this project is to apply data mining techniques specifically classification and clustering on the Students Performance Dataset.\n",
        "\n",
        "*   The classification task categorizes students into performance levels using the attribute GradeClass with five categories: A, B, C, D, and F.\n",
        "*   The clustering task groups students with similar characteristics (such as parental education, study time, and GPA) to discover hidden patterns.\n",
        "\n",
        "By applying these techniques, we aim to understand student behavior, improve educational strategies, and support academic decision-making.\n",
        "\n",
        "\n",
        "\n",
        "\n",
        "```\n",
        "Data Source\n",
        "```\n",
        "*    Dataset Name: Students Performance Dataset\n",
        "*    Source: https://www.kaggle.com/datasets/rabieelkharoua/students-performance-dataset\n",
        "\n",
        "The dataset includes a variety of demographic, social, and academic factors, such as:\n",
        "*    StudentID, Age, Gender, Ethnicity\n",
        "*    Parental Education and Parental Support\n",
        "*    Study Time Weekly, Absences, Tutoring\n",
        "*    Extracurricular activities (Sports, Music, Volunteering)\n",
        "*    GPA (Grade Point Average)\n",
        "*    GradeClass (class label representing academic performance category)"
      ],
      "metadata": {
        "id": "GoLb5Lp88oXx"
      }
    },
    {
      "cell_type": "code",
      "source": [
        "import pandas as pd\n",
        "\n",
        "df = pd.read_csv(\"Raw_dataset.csv\")\n",
        "\n",
        "print(\"\\nDataset Info:\\n\")\n",
        "df.info()\n",
        "\n",
        "print(\"\\nNumber of attributes and their data types:\\n\")\n",
        "print(df.dtypes)\n",
        "\n",
        "print(\"\\nNumber of records (instances):\", df.shape[0])\n",
        "\n",
        "print(\"\\nSample of the raw dataset:\\n\")\n",
        "print(df.head())\n",
        "\n",
        "print(\"\\nClass attribute: GradeClass\")\n",
        "print(\"\\nCounts per grade category:\")\n",
        "print(df['GradeClass'].value_counts())"
      ],
      "metadata": {
        "colab": {
          "base_uri": "https://localhost:8080/"
        },
        "id": "t0m4cBIS7ZF2",
        "outputId": "7dd1798f-24a6-4a16-b8b7-4bf6fc00cc8f"
      },
      "execution_count": 2,
      "outputs": [
        {
          "output_type": "stream",
          "name": "stdout",
          "text": [
            "\n",
            "Dataset Info:\n",
            "\n",
            "<class 'pandas.core.frame.DataFrame'>\n",
            "RangeIndex: 2392 entries, 0 to 2391\n",
            "Data columns (total 15 columns):\n",
            " #   Column             Non-Null Count  Dtype  \n",
            "---  ------             --------------  -----  \n",
            " 0   StudentID          2392 non-null   int64  \n",
            " 1   Age                2392 non-null   int64  \n",
            " 2   Gender             2392 non-null   int64  \n",
            " 3   Ethnicity          2392 non-null   int64  \n",
            " 4   ParentalEducation  2392 non-null   int64  \n",
            " 5   StudyTimeWeekly    2392 non-null   float64\n",
            " 6   Absences           2392 non-null   int64  \n",
            " 7   Tutoring           2392 non-null   int64  \n",
            " 8   ParentalSupport    2392 non-null   int64  \n",
            " 9   Extracurricular    2392 non-null   int64  \n",
            " 10  Sports             2392 non-null   int64  \n",
            " 11  Music              2392 non-null   int64  \n",
            " 12  Volunteering       2392 non-null   int64  \n",
            " 13  GPA                2392 non-null   float64\n",
            " 14  GradeClass         2392 non-null   float64\n",
            "dtypes: float64(3), int64(12)\n",
            "memory usage: 280.4 KB\n",
            "\n",
            "Number of attributes and their data types:\n",
            "\n",
            "StudentID              int64\n",
            "Age                    int64\n",
            "Gender                 int64\n",
            "Ethnicity              int64\n",
            "ParentalEducation      int64\n",
            "StudyTimeWeekly      float64\n",
            "Absences               int64\n",
            "Tutoring               int64\n",
            "ParentalSupport        int64\n",
            "Extracurricular        int64\n",
            "Sports                 int64\n",
            "Music                  int64\n",
            "Volunteering           int64\n",
            "GPA                  float64\n",
            "GradeClass           float64\n",
            "dtype: object\n",
            "\n",
            "Number of records (instances): 2392\n",
            "\n",
            "Sample of the raw dataset:\n",
            "\n",
            "   StudentID  Age  Gender  Ethnicity  ParentalEducation  StudyTimeWeekly  \\\n",
            "0       1001   17       1          0                  2        19.833723   \n",
            "1       1002   18       0          0                  1        15.408756   \n",
            "2       1003   15       0          2                  3         4.210570   \n",
            "3       1004   17       1          0                  3        10.028829   \n",
            "4       1005   17       1          0                  2         4.672495   \n",
            "\n",
            "   Absences  Tutoring  ParentalSupport  Extracurricular  Sports  Music  \\\n",
            "0         7         1                2                0       0      1   \n",
            "1         0         0                1                0       0      0   \n",
            "2        26         0                2                0       0      0   \n",
            "3        14         0                3                1       0      0   \n",
            "4        17         1                3                0       0      0   \n",
            "\n",
            "   Volunteering       GPA  GradeClass  \n",
            "0             0  2.929196         2.0  \n",
            "1             0  3.042915         1.0  \n",
            "2             0  0.112602         4.0  \n",
            "3             0  2.054218         3.0  \n",
            "4             0  1.288061         4.0  \n",
            "\n",
            "Class attribute: GradeClass\n",
            "\n",
            "Counts per grade category:\n",
            "GradeClass\n",
            "4.0    1211\n",
            "3.0     414\n",
            "2.0     391\n",
            "1.0     269\n",
            "0.0     107\n",
            "Name: count, dtype: int64\n"
          ]
        }
      ]
    }
  ]
}